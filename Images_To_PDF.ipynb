{
 "cells": [
  {
   "cell_type": "code",
   "execution_count": 1,
   "id": "c2704b52",
   "metadata": {},
   "outputs": [],
   "source": [
    "import os\n",
    "from PIL import Image\n",
    "from datetime import datetime\n",
    "from fpdf import FPDF"
   ]
  },
  {
   "cell_type": "code",
   "execution_count": 2,
   "id": "a5119403",
   "metadata": {},
   "outputs": [],
   "source": [
    "# Directory containing the screenshot files\n",
    "directory = '/Users/sahilgupta/Desktop/CONVERT_TO_PDF'\n",
    "\n",
    "# Name of Output PDF File\n",
    "filename = \"Notes\""
   ]
  },
  {
   "cell_type": "code",
   "execution_count": 3,
   "id": "2ac42783",
   "metadata": {},
   "outputs": [],
   "source": [
    "# Get all the files in the directory\n",
    "files = os.listdir(directory)\n",
    "\n",
    "# Filter out non-image files\n",
    "images = [file for file in files if file.endswith(('.png', '.jpg', '.jpeg'))]\n",
    "\n",
    "# Sort the images by creation time\n",
    "images = sorted(images, key=lambda image: os.path.getctime(os.path.join(directory, image)), reverse=True)"
   ]
  },
  {
   "cell_type": "code",
   "execution_count": 4,
   "id": "7ac89c52",
   "metadata": {},
   "outputs": [],
   "source": [
    "pdf = FPDF()"
   ]
  },
  {
   "cell_type": "code",
   "execution_count": 5,
   "id": "6cff7385",
   "metadata": {},
   "outputs": [],
   "source": [
    "# Loop through each pair of images\n",
    "for i in range(0, len(images), 2):\n",
    "    # Open the first image using Pillow\n",
    "    path1 = os.path.join(directory, images[i])\n",
    "    img1 = Image.open(path1)\n",
    "    \n",
    "    # Add a new page to the PDF\n",
    "    pdf.add_page()\n",
    "    \n",
    "    # Resize the first image to fit half the page\n",
    "    pdf.image(path1, x = 5, y = 5, w = pdf.w - 10)\n",
    "    \n",
    "    # Check if there's a second image\n",
    "    if i + 1 < len(images):\n",
    "        # Open the second image using Pillow\n",
    "        path2 = os.path.join(directory, images[i + 1])\n",
    "        img2 = Image.open(path2)\n",
    "\n",
    "        # Resize the second image to fit half the page\n",
    "        pdf.image(path2, x = 5, y = pdf.h/2 + 5, w = pdf.w - 10)"
   ]
  },
  {
   "cell_type": "code",
   "execution_count": 6,
   "id": "0e9b75c3",
   "metadata": {},
   "outputs": [
    {
     "name": "stdout",
     "output_type": "stream",
     "text": [
      "PDF Saved\n"
     ]
    }
   ],
   "source": [
    "# Save the PDF\n",
    "if pdf.output(filename + \"_v1.pdf\", \"F\") == '':\n",
    "    print(\"PDF Saved\")"
   ]
  },
  {
   "cell_type": "code",
   "execution_count": 7,
   "id": "34d2a6de",
   "metadata": {},
   "outputs": [],
   "source": [
    "class PDF_LANDSCAPE(FPDF):\n",
    "    def __init__(self):\n",
    "        super().__init__('L', 'mm', 'A4') # Set orientation to landscape\n",
    "        \n",
    "    def add_image(self, image_path, image_num, page_num, border=5):\n",
    "        # Open the image using Pillow\n",
    "        img = Image.open(image_path)\n",
    "        \n",
    "        # Add a new page to the PDF\n",
    "        self.add_page()\n",
    "        \n",
    "        # Resize the image to fit the page\n",
    "        self.image(image_path, x = border, y = border, w = self.w - 2*border)\n",
    "        \n",
    "        # Add image number to the page\n",
    "        self.set_font('Arial', '', 10)\n",
    "        self.cell(0, 10, 'Image ' + str(image_num), 0, 0, 'R')\n",
    "        \n",
    "        # Add image number to the bottom right corner\n",
    "        self.set_xy(self.w - 15, self.h - 10)"
   ]
  },
  {
   "cell_type": "code",
   "execution_count": 8,
   "id": "bb218d35",
   "metadata": {},
   "outputs": [
    {
     "name": "stdout",
     "output_type": "stream",
     "text": [
      "LandScape PDF Saved\n"
     ]
    }
   ],
   "source": [
    "# Get a list of all image files in the directory\n",
    "images = [f for f in os.listdir(directory) if f.endswith('.png')]\n",
    "\n",
    "# Sort the images by creation time\n",
    "images.sort(key=lambda x: os.path.getctime(os.path.join(directory, x)), reverse=True)\n",
    "\n",
    "# Create a new PDF object\n",
    "pdf = PDF_LANDSCAPE()\n",
    "\n",
    "# Loop through each image\n",
    "for i in range(len(images)):\n",
    "    # Add the image to the PDF\n",
    "    image_path = os.path.join(directory, images[i])\n",
    "    pdf.add_image(image_path, i+1, len(images))\n",
    "    \n",
    "# Save the PDF (Landscape)\n",
    "if pdf.output(filename + \"_v2.pdf\", \"F\") == '':\n",
    "    print(\"LandScape PDF Saved\")"
   ]
  }
 ],
 "metadata": {
  "kernelspec": {
   "display_name": "Python 3 (ipykernel)",
   "language": "python",
   "name": "python3"
  },
  "language_info": {
   "codemirror_mode": {
    "name": "ipython",
    "version": 3
   },
   "file_extension": ".py",
   "mimetype": "text/x-python",
   "name": "python",
   "nbconvert_exporter": "python",
   "pygments_lexer": "ipython3",
   "version": "3.11.2"
  }
 },
 "nbformat": 4,
 "nbformat_minor": 5
}
